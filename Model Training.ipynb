{
 "cells": [
  {
   "cell_type": "markdown",
   "metadata": {},
   "source": [
    "## Intro"
   ]
  },
  {
   "cell_type": "markdown",
   "metadata": {},
   "source": [
    "Now that exploratory analysis is done and data cleaning functions have been created, we can start building a classification model to predict whether a marketing event will work based on the type of event, and the type of person it was sent to. We will try a few types of classification algorithms to see which works best. "
   ]
  },
  {
   "cell_type": "code",
   "execution_count": 1,
   "metadata": {},
   "outputs": [],
   "source": [
    "# from data cleaning functions written earlier\n",
    "import data_cleaning as dc"
   ]
  },
  {
   "cell_type": "code",
   "execution_count": 31,
   "metadata": {},
   "outputs": [],
   "source": [
    "from sklearn.model_selection import train_test_split, GridSearchCV, StratifiedKFold\n",
    "from sklearn.linear_model import LogisticRegression\n",
    "from sklearn.metrics import r2_score, accuracy_score\n",
    "from xgboost import XGBClassifier\n",
    "from sklearn import svm\n",
    "from sklearn import preprocessing\n",
    "import pickle"
   ]
  },
  {
   "cell_type": "code",
   "execution_count": 3,
   "metadata": {},
   "outputs": [],
   "source": [
    "portfolio, profile, transcript = dc.read_data()\n",
    "cl_portfolio = dc.clean_portfolio(portfolio)\n",
    "cl_profile = dc.clean_profile(profile)\n",
    "cl_transcript = dc.clean_transcript(transcript, cl_profile)\n",
    "df = dc.clean_data(cl_portfolio, cl_profile, cl_transcript)"
   ]
  },
  {
   "cell_type": "code",
   "execution_count": 5,
   "metadata": {},
   "outputs": [],
   "source": [
    "X = df[['reward', 'difficulty', 'duration', 'email', 'mobile', 'social', \n",
    "        'web', 'bogo', 'discount', 'informational', \n",
    "        'age', 'income', 'gender_F', 'gender_M', 'gender_O', 'year', 'month', 'member_days']]\n",
    "y = df[['infl_trx']]"
   ]
  },
  {
   "cell_type": "code",
   "execution_count": 6,
   "metadata": {},
   "outputs": [],
   "source": [
    "# train/test split\n",
    "X_train, X_test, y_train, y_test = train_test_split(X, y, test_size=0.2)"
   ]
  },
  {
   "cell_type": "code",
   "execution_count": 7,
   "metadata": {},
   "outputs": [
    {
     "data": {
      "text/plain": [
       "False    0.592807\n",
       "True     0.407193\n",
       "Name: infl_trx, dtype: float64"
      ]
     },
     "execution_count": 7,
     "metadata": {},
     "output_type": "execute_result"
    }
   ],
   "source": [
    "# check to make sure y is not too imbalanced\n",
    "y_train.infl_trx.value_counts()/len(y_train)"
   ]
  },
  {
   "cell_type": "code",
   "execution_count": null,
   "metadata": {},
   "outputs": [],
   "source": [
    "# let's try a few different model types\n",
    "# Logistic Regression, SVM, and XGBoost"
   ]
  },
  {
   "cell_type": "markdown",
   "metadata": {},
   "source": [
    "## Logistic Regression"
   ]
  },
  {
   "cell_type": "code",
   "execution_count": 22,
   "metadata": {},
   "outputs": [],
   "source": [
    "# for this type of model it is beneficial to scale our x values\n",
    "X_train_scaled = preprocessing.scale(X_train)\n",
    "X_test_scaled = preprocessing.scale(X_test)"
   ]
  },
  {
   "cell_type": "code",
   "execution_count": 27,
   "metadata": {
    "tags": []
   },
   "outputs": [
    {
     "name": "stdout",
     "output_type": "stream",
     "text": [
      "0.736822541075013\n"
     ]
    }
   ],
   "source": [
    "# train and fit model\n",
    "logreg_model = LogisticRegression()\n",
    "logreg_model.fit(X_train_scaled, y_train)\n",
    "\n",
    "# make predictions and return accuracy\n",
    "pred_lr = logreg_model.predict(X_test_scaled)\n",
    "accuracy_lr = accuracy_score(y_test, pred_lr)\n",
    "print(accuracy_lr)"
   ]
  },
  {
   "cell_type": "markdown",
   "metadata": {},
   "source": [
    "## SVM"
   ]
  },
  {
   "cell_type": "code",
   "execution_count": 28,
   "metadata": {
    "tags": []
   },
   "outputs": [
    {
     "name": "stdout",
     "output_type": "stream",
     "text": [
      "0.7615047208385993\n"
     ]
    }
   ],
   "source": [
    "# this type of model will also benefit from scaled inputs\n",
    "# train and fit first\n",
    "svm_model = svm.SVC()\n",
    "svm_model.fit(X_train_scaled, y_train)\n",
    "\n",
    "# make perdictions and return accuracy\n",
    "pred_svm = svm_model.predict(X_test_scaled)\n",
    "accuracy_svm = accuracy_score(y_test, pred_svm)\n",
    "print(accuracy_svm)"
   ]
  },
  {
   "cell_type": "markdown",
   "metadata": {},
   "source": [
    "## XGBoost"
   ]
  },
  {
   "cell_type": "code",
   "execution_count": 35,
   "metadata": {
    "tags": []
   },
   "outputs": [
    {
     "name": "stdout",
     "output_type": "stream",
     "text": [
      "Fitting 10 folds for each of 81 candidates, totalling 810 fits\n",
      "[Parallel(n_jobs=-1)]: Using backend LokyBackend with 12 concurrent workers.\n",
      "[Parallel(n_jobs=-1)]: Done  26 tasks      | elapsed:   20.7s\n",
      "[Parallel(n_jobs=-1)]: Done 176 tasks      | elapsed:  2.7min\n",
      "[Parallel(n_jobs=-1)]: Done 426 tasks      | elapsed:  9.7min\n",
      "[Parallel(n_jobs=-1)]: Done 776 tasks      | elapsed: 20.8min\n",
      "[Parallel(n_jobs=-1)]: Done 810 out of 810 | elapsed: 22.2min finished\n",
      "Best: -0.436753 using {&#39;gamma&#39;: 0.6, &#39;max_depth&#39;: 8, &#39;min_child_weight&#39;: 2, &#39;n_estimators&#39;: 200}\n",
      "-0.455852 (0.004662) with: {&#39;gamma&#39;: 0.2, &#39;max_depth&#39;: 2, &#39;min_child_weight&#39;: 2, &#39;n_estimators&#39;: 100}\n",
      "-0.451593 (0.004927) with: {&#39;gamma&#39;: 0.2, &#39;max_depth&#39;: 2, &#39;min_child_weight&#39;: 2, &#39;n_estimators&#39;: 150}\n",
      "-0.449989 (0.005175) with: {&#39;gamma&#39;: 0.2, &#39;max_depth&#39;: 2, &#39;min_child_weight&#39;: 2, &#39;n_estimators&#39;: 200}\n",
      "-0.455852 (0.004662) with: {&#39;gamma&#39;: 0.2, &#39;max_depth&#39;: 2, &#39;min_child_weight&#39;: 3, &#39;n_estimators&#39;: 100}\n",
      "-0.451588 (0.004921) with: {&#39;gamma&#39;: 0.2, &#39;max_depth&#39;: 2, &#39;min_child_weight&#39;: 3, &#39;n_estimators&#39;: 150}\n",
      "-0.449957 (0.005140) with: {&#39;gamma&#39;: 0.2, &#39;max_depth&#39;: 2, &#39;min_child_weight&#39;: 3, &#39;n_estimators&#39;: 200}\n",
      "-0.455852 (0.004662) with: {&#39;gamma&#39;: 0.2, &#39;max_depth&#39;: 2, &#39;min_child_weight&#39;: 4, &#39;n_estimators&#39;: 100}\n",
      "-0.451604 (0.004910) with: {&#39;gamma&#39;: 0.2, &#39;max_depth&#39;: 2, &#39;min_child_weight&#39;: 4, &#39;n_estimators&#39;: 150}\n",
      "-0.449924 (0.005199) with: {&#39;gamma&#39;: 0.2, &#39;max_depth&#39;: 2, &#39;min_child_weight&#39;: 4, &#39;n_estimators&#39;: 200}\n",
      "-0.442722 (0.005609) with: {&#39;gamma&#39;: 0.2, &#39;max_depth&#39;: 5, &#39;min_child_weight&#39;: 2, &#39;n_estimators&#39;: 100}\n",
      "-0.441655 (0.005859) with: {&#39;gamma&#39;: 0.2, &#39;max_depth&#39;: 5, &#39;min_child_weight&#39;: 2, &#39;n_estimators&#39;: 150}\n",
      "-0.440930 (0.005688) with: {&#39;gamma&#39;: 0.2, &#39;max_depth&#39;: 5, &#39;min_child_weight&#39;: 2, &#39;n_estimators&#39;: 200}\n",
      "-0.442665 (0.005566) with: {&#39;gamma&#39;: 0.2, &#39;max_depth&#39;: 5, &#39;min_child_weight&#39;: 3, &#39;n_estimators&#39;: 100}\n",
      "-0.441370 (0.005642) with: {&#39;gamma&#39;: 0.2, &#39;max_depth&#39;: 5, &#39;min_child_weight&#39;: 3, &#39;n_estimators&#39;: 150}\n",
      "-0.440611 (0.005513) with: {&#39;gamma&#39;: 0.2, &#39;max_depth&#39;: 5, &#39;min_child_weight&#39;: 3, &#39;n_estimators&#39;: 200}\n",
      "-0.442762 (0.005571) with: {&#39;gamma&#39;: 0.2, &#39;max_depth&#39;: 5, &#39;min_child_weight&#39;: 4, &#39;n_estimators&#39;: 100}\n",
      "-0.441801 (0.005573) with: {&#39;gamma&#39;: 0.2, &#39;max_depth&#39;: 5, &#39;min_child_weight&#39;: 4, &#39;n_estimators&#39;: 150}\n",
      "-0.440912 (0.005530) with: {&#39;gamma&#39;: 0.2, &#39;max_depth&#39;: 5, &#39;min_child_weight&#39;: 4, &#39;n_estimators&#39;: 200}\n",
      "-0.438573 (0.005788) with: {&#39;gamma&#39;: 0.2, &#39;max_depth&#39;: 8, &#39;min_child_weight&#39;: 2, &#39;n_estimators&#39;: 100}\n",
      "-0.437208 (0.005781) with: {&#39;gamma&#39;: 0.2, &#39;max_depth&#39;: 8, &#39;min_child_weight&#39;: 2, &#39;n_estimators&#39;: 150}\n",
      "-0.437125 (0.005773) with: {&#39;gamma&#39;: 0.2, &#39;max_depth&#39;: 8, &#39;min_child_weight&#39;: 2, &#39;n_estimators&#39;: 200}\n",
      "-0.438581 (0.005696) with: {&#39;gamma&#39;: 0.2, &#39;max_depth&#39;: 8, &#39;min_child_weight&#39;: 3, &#39;n_estimators&#39;: 100}\n",
      "-0.437368 (0.005674) with: {&#39;gamma&#39;: 0.2, &#39;max_depth&#39;: 8, &#39;min_child_weight&#39;: 3, &#39;n_estimators&#39;: 150}\n",
      "-0.436923 (0.006074) with: {&#39;gamma&#39;: 0.2, &#39;max_depth&#39;: 8, &#39;min_child_weight&#39;: 3, &#39;n_estimators&#39;: 200}\n",
      "-0.438322 (0.005310) with: {&#39;gamma&#39;: 0.2, &#39;max_depth&#39;: 8, &#39;min_child_weight&#39;: 4, &#39;n_estimators&#39;: 100}\n",
      "-0.437799 (0.005702) with: {&#39;gamma&#39;: 0.2, &#39;max_depth&#39;: 8, &#39;min_child_weight&#39;: 4, &#39;n_estimators&#39;: 150}\n",
      "-0.437703 (0.005967) with: {&#39;gamma&#39;: 0.2, &#39;max_depth&#39;: 8, &#39;min_child_weight&#39;: 4, &#39;n_estimators&#39;: 200}\n",
      "-0.455852 (0.004662) with: {&#39;gamma&#39;: 0.4, &#39;max_depth&#39;: 2, &#39;min_child_weight&#39;: 2, &#39;n_estimators&#39;: 100}\n",
      "-0.451593 (0.004927) with: {&#39;gamma&#39;: 0.4, &#39;max_depth&#39;: 2, &#39;min_child_weight&#39;: 2, &#39;n_estimators&#39;: 150}\n",
      "-0.449989 (0.005175) with: {&#39;gamma&#39;: 0.4, &#39;max_depth&#39;: 2, &#39;min_child_weight&#39;: 2, &#39;n_estimators&#39;: 200}\n",
      "-0.455852 (0.004662) with: {&#39;gamma&#39;: 0.4, &#39;max_depth&#39;: 2, &#39;min_child_weight&#39;: 3, &#39;n_estimators&#39;: 100}\n",
      "-0.451588 (0.004921) with: {&#39;gamma&#39;: 0.4, &#39;max_depth&#39;: 2, &#39;min_child_weight&#39;: 3, &#39;n_estimators&#39;: 150}\n",
      "-0.449958 (0.005140) with: {&#39;gamma&#39;: 0.4, &#39;max_depth&#39;: 2, &#39;min_child_weight&#39;: 3, &#39;n_estimators&#39;: 200}\n",
      "-0.455852 (0.004662) with: {&#39;gamma&#39;: 0.4, &#39;max_depth&#39;: 2, &#39;min_child_weight&#39;: 4, &#39;n_estimators&#39;: 100}\n",
      "-0.451604 (0.004910) with: {&#39;gamma&#39;: 0.4, &#39;max_depth&#39;: 2, &#39;min_child_weight&#39;: 4, &#39;n_estimators&#39;: 150}\n",
      "-0.449924 (0.005198) with: {&#39;gamma&#39;: 0.4, &#39;max_depth&#39;: 2, &#39;min_child_weight&#39;: 4, &#39;n_estimators&#39;: 200}\n",
      "-0.442806 (0.005656) with: {&#39;gamma&#39;: 0.4, &#39;max_depth&#39;: 5, &#39;min_child_weight&#39;: 2, &#39;n_estimators&#39;: 100}\n",
      "-0.441869 (0.005933) with: {&#39;gamma&#39;: 0.4, &#39;max_depth&#39;: 5, &#39;min_child_weight&#39;: 2, &#39;n_estimators&#39;: 150}\n",
      "-0.441096 (0.005800) with: {&#39;gamma&#39;: 0.4, &#39;max_depth&#39;: 5, &#39;min_child_weight&#39;: 2, &#39;n_estimators&#39;: 200}\n",
      "-0.442676 (0.005509) with: {&#39;gamma&#39;: 0.4, &#39;max_depth&#39;: 5, &#39;min_child_weight&#39;: 3, &#39;n_estimators&#39;: 100}\n",
      "-0.441399 (0.005494) with: {&#39;gamma&#39;: 0.4, &#39;max_depth&#39;: 5, &#39;min_child_weight&#39;: 3, &#39;n_estimators&#39;: 150}\n",
      "-0.440763 (0.005584) with: {&#39;gamma&#39;: 0.4, &#39;max_depth&#39;: 5, &#39;min_child_weight&#39;: 3, &#39;n_estimators&#39;: 200}\n",
      "-0.442896 (0.005597) with: {&#39;gamma&#39;: 0.4, &#39;max_depth&#39;: 5, &#39;min_child_weight&#39;: 4, &#39;n_estimators&#39;: 100}\n",
      "-0.441934 (0.005697) with: {&#39;gamma&#39;: 0.4, &#39;max_depth&#39;: 5, &#39;min_child_weight&#39;: 4, &#39;n_estimators&#39;: 150}\n",
      "-0.440972 (0.005736) with: {&#39;gamma&#39;: 0.4, &#39;max_depth&#39;: 5, &#39;min_child_weight&#39;: 4, &#39;n_estimators&#39;: 200}\n",
      "-0.438847 (0.005640) with: {&#39;gamma&#39;: 0.4, &#39;max_depth&#39;: 8, &#39;min_child_weight&#39;: 2, &#39;n_estimators&#39;: 100}\n",
      "-0.437396 (0.005976) with: {&#39;gamma&#39;: 0.4, &#39;max_depth&#39;: 8, &#39;min_child_weight&#39;: 2, &#39;n_estimators&#39;: 150}\n",
      "-0.436798 (0.006119) with: {&#39;gamma&#39;: 0.4, &#39;max_depth&#39;: 8, &#39;min_child_weight&#39;: 2, &#39;n_estimators&#39;: 200}\n",
      "-0.439055 (0.005548) with: {&#39;gamma&#39;: 0.4, &#39;max_depth&#39;: 8, &#39;min_child_weight&#39;: 3, &#39;n_estimators&#39;: 100}\n",
      "-0.437911 (0.005757) with: {&#39;gamma&#39;: 0.4, &#39;max_depth&#39;: 8, &#39;min_child_weight&#39;: 3, &#39;n_estimators&#39;: 150}\n",
      "-0.437795 (0.005784) with: {&#39;gamma&#39;: 0.4, &#39;max_depth&#39;: 8, &#39;min_child_weight&#39;: 3, &#39;n_estimators&#39;: 200}\n",
      "-0.438816 (0.005662) with: {&#39;gamma&#39;: 0.4, &#39;max_depth&#39;: 8, &#39;min_child_weight&#39;: 4, &#39;n_estimators&#39;: 100}\n",
      "-0.437800 (0.005917) with: {&#39;gamma&#39;: 0.4, &#39;max_depth&#39;: 8, &#39;min_child_weight&#39;: 4, &#39;n_estimators&#39;: 150}\n",
      "-0.437659 (0.005766) with: {&#39;gamma&#39;: 0.4, &#39;max_depth&#39;: 8, &#39;min_child_weight&#39;: 4, &#39;n_estimators&#39;: 200}\n",
      "-0.455852 (0.004662) with: {&#39;gamma&#39;: 0.6, &#39;max_depth&#39;: 2, &#39;min_child_weight&#39;: 2, &#39;n_estimators&#39;: 100}\n",
      "-0.451594 (0.004927) with: {&#39;gamma&#39;: 0.6, &#39;max_depth&#39;: 2, &#39;min_child_weight&#39;: 2, &#39;n_estimators&#39;: 150}\n",
      "-0.449990 (0.005176) with: {&#39;gamma&#39;: 0.6, &#39;max_depth&#39;: 2, &#39;min_child_weight&#39;: 2, &#39;n_estimators&#39;: 200}\n",
      "-0.455852 (0.004662) with: {&#39;gamma&#39;: 0.6, &#39;max_depth&#39;: 2, &#39;min_child_weight&#39;: 3, &#39;n_estimators&#39;: 100}\n",
      "-0.451588 (0.004921) with: {&#39;gamma&#39;: 0.6, &#39;max_depth&#39;: 2, &#39;min_child_weight&#39;: 3, &#39;n_estimators&#39;: 150}\n",
      "-0.449958 (0.005140) with: {&#39;gamma&#39;: 0.6, &#39;max_depth&#39;: 2, &#39;min_child_weight&#39;: 3, &#39;n_estimators&#39;: 200}\n",
      "-0.455852 (0.004662) with: {&#39;gamma&#39;: 0.6, &#39;max_depth&#39;: 2, &#39;min_child_weight&#39;: 4, &#39;n_estimators&#39;: 100}\n",
      "-0.451604 (0.004910) with: {&#39;gamma&#39;: 0.6, &#39;max_depth&#39;: 2, &#39;min_child_weight&#39;: 4, &#39;n_estimators&#39;: 150}\n",
      "-0.449924 (0.005198) with: {&#39;gamma&#39;: 0.6, &#39;max_depth&#39;: 2, &#39;min_child_weight&#39;: 4, &#39;n_estimators&#39;: 200}\n",
      "-0.442790 (0.005634) with: {&#39;gamma&#39;: 0.6, &#39;max_depth&#39;: 5, &#39;min_child_weight&#39;: 2, &#39;n_estimators&#39;: 100}\n",
      "-0.441746 (0.005546) with: {&#39;gamma&#39;: 0.6, &#39;max_depth&#39;: 5, &#39;min_child_weight&#39;: 2, &#39;n_estimators&#39;: 150}\n",
      "-0.440993 (0.005706) with: {&#39;gamma&#39;: 0.6, &#39;max_depth&#39;: 5, &#39;min_child_weight&#39;: 2, &#39;n_estimators&#39;: 200}\n",
      "-0.442536 (0.005604) with: {&#39;gamma&#39;: 0.6, &#39;max_depth&#39;: 5, &#39;min_child_weight&#39;: 3, &#39;n_estimators&#39;: 100}\n",
      "-0.441298 (0.005607) with: {&#39;gamma&#39;: 0.6, &#39;max_depth&#39;: 5, &#39;min_child_weight&#39;: 3, &#39;n_estimators&#39;: 150}\n",
      "-0.440625 (0.005321) with: {&#39;gamma&#39;: 0.6, &#39;max_depth&#39;: 5, &#39;min_child_weight&#39;: 3, &#39;n_estimators&#39;: 200}\n",
      "-0.442848 (0.005647) with: {&#39;gamma&#39;: 0.6, &#39;max_depth&#39;: 5, &#39;min_child_weight&#39;: 4, &#39;n_estimators&#39;: 100}\n",
      "-0.441792 (0.005556) with: {&#39;gamma&#39;: 0.6, &#39;max_depth&#39;: 5, &#39;min_child_weight&#39;: 4, &#39;n_estimators&#39;: 150}\n",
      "-0.440844 (0.005592) with: {&#39;gamma&#39;: 0.6, &#39;max_depth&#39;: 5, &#39;min_child_weight&#39;: 4, &#39;n_estimators&#39;: 200}\n",
      "-0.438545 (0.005524) with: {&#39;gamma&#39;: 0.6, &#39;max_depth&#39;: 8, &#39;min_child_weight&#39;: 2, &#39;n_estimators&#39;: 100}\n",
      "-0.436981 (0.005621) with: {&#39;gamma&#39;: 0.6, &#39;max_depth&#39;: 8, &#39;min_child_weight&#39;: 2, &#39;n_estimators&#39;: 150}\n",
      "-0.436753 (0.006087) with: {&#39;gamma&#39;: 0.6, &#39;max_depth&#39;: 8, &#39;min_child_weight&#39;: 2, &#39;n_estimators&#39;: 200}\n",
      "-0.438864 (0.005715) with: {&#39;gamma&#39;: 0.6, &#39;max_depth&#39;: 8, &#39;min_child_weight&#39;: 3, &#39;n_estimators&#39;: 100}\n",
      "-0.437399 (0.005890) with: {&#39;gamma&#39;: 0.6, &#39;max_depth&#39;: 8, &#39;min_child_weight&#39;: 3, &#39;n_estimators&#39;: 150}\n",
      "-0.437112 (0.005701) with: {&#39;gamma&#39;: 0.6, &#39;max_depth&#39;: 8, &#39;min_child_weight&#39;: 3, &#39;n_estimators&#39;: 200}\n",
      "-0.438467 (0.005655) with: {&#39;gamma&#39;: 0.6, &#39;max_depth&#39;: 8, &#39;min_child_weight&#39;: 4, &#39;n_estimators&#39;: 100}\n",
      "-0.437763 (0.006001) with: {&#39;gamma&#39;: 0.6, &#39;max_depth&#39;: 8, &#39;min_child_weight&#39;: 4, &#39;n_estimators&#39;: 150}\n",
      "-0.437537 (0.006080) with: {&#39;gamma&#39;: 0.6, &#39;max_depth&#39;: 8, &#39;min_child_weight&#39;: 4, &#39;n_estimators&#39;: 200}\n"
     ]
    }
   ],
   "source": [
    "# code from: https://machinelearningmastery.com/xgboost-python-mini-course/\n",
    "# build model\n",
    "model = XGBClassifier(learning_rate =0.1,\n",
    "                    n_estimators=1000,\n",
    "                    max_depth=2,\n",
    "                    min_child_weight=3,\n",
    "                    gamma=0.4,\n",
    "                    subsample=0.8,\n",
    "                    colsample_bytree=0.8,\n",
    "                    objective= 'binary:logistic',\n",
    "                    nthread=-1,\n",
    "                    scale_pos_weight=1, \n",
    "                    tree_method='gpu_hist')\n",
    "\n",
    "param_grid = {\n",
    "    'max_depth':[2, 5, 8],\n",
    "    'min_child_weight':[2,3,4],\n",
    "    'gamma':[0.2, 0.4, 0.6], \n",
    "    'n_estimators': [100, 150, 200]\n",
    "    }\n",
    "\n",
    "# use GridSearch to tune parameters\n",
    "kfold = StratifiedKFold(n_splits=10, shuffle=True, random_state=7)\n",
    "grid_search = GridSearchCV(model, param_grid, scoring=\"neg_log_loss\", n_jobs=-1, cv=kfold, verbose=1)\n",
    "grid_result = grid_search.fit(X_train, y_train)\n",
    "\n",
    "# summarize results\n",
    "print(\"Best: %f using %s\" % (grid_result.best_score_, grid_result.best_params_))\n",
    "means = grid_result.cv_results_['mean_test_score']\n",
    "stds = grid_result.cv_results_['std_test_score']\n",
    "params = grid_result.cv_results_['params']\n",
    "for mean, stdev, param in zip(means, stds, params):\n",
    "\tprint(\"%f (%f) with: %r\" % (mean, stdev, param))\n"
   ]
  },
  {
   "cell_type": "code",
   "execution_count": 36,
   "metadata": {
    "tags": []
   },
   "outputs": [
    {
     "name": "stdout",
     "output_type": "stream",
     "text": [
      "0.7840309270686194\n"
     ]
    }
   ],
   "source": [
    "# make predictions and return accuracy\n",
    "pred_xgb = grid_result.predict(X_test)\n",
    "accuracy_xgb = accuracy_score(y_test, pred_xgb)\n",
    "\n",
    "print(accuracy_xgb)"
   ]
  },
  {
   "cell_type": "markdown",
   "metadata": {},
   "source": [
    "## Conclusion"
   ]
  },
  {
   "cell_type": "markdown",
   "metadata": {},
   "source": [
    "The XGBoost model worked best out of all the models so we can export it as a pickle file for future use"
   ]
  },
  {
   "cell_type": "code",
   "execution_count": 37,
   "metadata": {},
   "outputs": [],
   "source": [
    "filename = 'final_model.sav'\n",
    "pickle.dump(grid_result, open(filename, 'wb'))"
   ]
  }
 ],
 "metadata": {
  "kernelspec": {
   "display_name": "Python 3",
   "language": "python",
   "name": "python3"
  },
  "language_info": {
   "codemirror_mode": {
    "name": "ipython",
    "version": 3
   },
   "file_extension": ".py",
   "mimetype": "text/x-python",
   "name": "python",
   "nbconvert_exporter": "python",
   "pygments_lexer": "ipython3",
   "version": "3.7.3"
  },
  "toc": {
   "base_numbering": 1,
   "nav_menu": {},
   "number_sections": false,
   "sideBar": true,
   "skip_h1_title": false,
   "title_cell": "Table of Contents",
   "title_sidebar": "Contents",
   "toc_cell": false,
   "toc_position": {},
   "toc_section_display": true,
   "toc_window_display": true
  }
 },
 "nbformat": 4,
 "nbformat_minor": 2
}
